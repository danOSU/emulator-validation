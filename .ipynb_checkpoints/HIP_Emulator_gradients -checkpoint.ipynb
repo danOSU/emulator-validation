{
 "cells": [
  {
   "cell_type": "code",
   "execution_count": 1,
   "metadata": {},
   "outputs": [
    {
     "name": "stdout",
     "output_type": "stream",
     "text": [
      "Using idf = 0 : Grad\n",
      "SystemsInfo = \n",
      "{'Pb-Pb-2760': {'proj': 'Pb', 'targ': 'Pb', 'sqrts': 2760, 'main_design_file': 'production_designs/500pts/design_pts_Pb_Pb_2760_production/design_points_main_PbPb-2760.dat', 'main_range_file': 'production_designs/500pts/design_pts_Pb_Pb_2760_production/design_ranges_main_PbPb-2760.dat', 'validation_design_file': 'production_designs/500pts/design_pts_Pb_Pb_2760_production/design_points_validation_PbPb-2760.dat', 'validation_range_file': 'production_designs/500pts/design_pts_Pb_Pb_2760_production//design_ranges_validation_PbPb-2760.dat', 'labels': ['$N$[$2.76$TeV]', '$p$', '$\\\\sigma_k$', '$w$ [fm]', '$d_{\\\\mathrm{min}}$ [fm]', '$\\\\tau_R$ [fm/$c$]', '$\\\\alpha$', '$T_{\\\\eta,\\\\mathrm{kink}}$ [GeV]', '$a_{\\\\eta,\\\\mathrm{low}}$ [GeV${}^{-1}$]', '$a_{\\\\eta,\\\\mathrm{high}}$ [GeV${}^{-1}$]', '$(\\\\eta/s)_{\\\\mathrm{kink}}$', '$(\\\\zeta/s)_{\\\\max}$', '$T_{\\\\zeta,c}$ [GeV]', '$w_{\\\\zeta}$ [GeV]', '$\\\\lambda_{\\\\zeta}$', '$b_{\\\\pi}$', '$T_{\\\\mathrm{sw}}$ [GeV]'], 'main_events_dir': 'model_calculations/production_500pts_Pb_Pb_2760/Events/main', 'validation_events_dir': 'model_calculations/production_500pts_Pb_Pb_2760/Events/validation', 'main_obs_file': 'model_calculations/production_500pts_Pb_Pb_2760/Obs/main.dat', 'validation_obs_file': 'model_calculations/production_500pts_Pb_Pb_2760/Obs/validation.dat', 'n_design': 500, 'n_validation': 100, 'design_remove_idx': [289, 483, 324, 326, 459, 429, 334, 462, 242, 341, 406, 440, 377, 123, 447], 'npc': 10, 'MAP_obs_file': 'model_calculations/MAP/Grad/Obs/obs_Pb-Pb-2760.dat'}}\n",
      "The active observable list for calibration: {'Pb-Pb-2760': ['dNch_deta', 'dET_deta', 'dN_dy_pion', 'dN_dy_kaon', 'dN_dy_proton', 'mean_pT_pion', 'mean_pT_kaon', 'mean_pT_proton', 'pT_fluct', 'v22', 'v32', 'v42']}\n"
     ]
    },
    {
     "name": "stderr",
     "output_type": "stream",
     "text": [
      " /Users/dananjayaliyanage/Downloads/enter/envs/hc/lib/python3.7/site-packages/sklearn/externals/joblib/__init__.py:15: DeprecationWarning:sklearn.externals.joblib is deprecated in 0.21 and will be removed in 0.23. Please import this functionality directly from joblib, which can be installed with: pip install joblib. If this warning is raised when loading pickled models, you may need to re-serialize those models with scikit-learn 0.21+.\n"
     ]
    },
    {
     "name": "stdout",
     "output_type": "stream",
     "text": [
      "Loading Pb-Pb-2760 main calculations from model_calculations/production_500pts_Pb_Pb_2760/Obs/main.dat\n",
      "model_data.shape = (500,)\n",
      "Design points which will be deleted from training : [289, 483, 324, 326, 459, 429, 334, 462, 242, 341, 406, 440, 377, 123, 447]\n",
      "Loading Pb-Pb-2760 MAP calculations from model_calculations/MAP/Grad/Obs/obs_Pb-Pb-2760.dat\n",
      "MAP_data.shape = (1,)\n",
      "Loading experimental data from HIC_experimental_data\n"
     ]
    }
   ],
   "source": [
    "import GPy\n",
    "import numpy as np\n",
    "from pathlib import Path\n",
    "import matplotlib\n",
    "import matplotlib.pyplot as plt\n",
    "import sys\n",
    "from numpy.linalg import inv\n",
    "# insert at 1, 0 is the script path (or '' in REPL)\n",
    "sys.path.insert(1, '/Users/dananjayaliyanage/git/emulator-validation/src')\n",
    "from configurations import load_design\n",
    "from bayes_mcmc import *\n",
    "from emulator import *\n",
    "from calculations_load import trimmed_model_data\n",
    "#Chain, credible_interval"
   ]
  },
  {
   "cell_type": "code",
   "execution_count": 2,
   "metadata": {},
   "outputs": [],
   "source": [
    "name= ['norm','trento_p','sigma_k','nucleon_width','dmin3','tau_R','alpha','eta_over_s_T_kink','eta_over_s_low_T_slope',\n",
    "      'eta_over_s_high_T_slope','eta_over_s_kink','zeta_over_s_max','zeta_over_s_T_peak','zeta_over_s_width','zeta_over_s_lambda_asymm'\n",
    "      ,'shear_relax_time_factor','Tswitch','extra_cov_uncertinitiy']"
   ]
  },
  {
   "cell_type": "code",
   "execution_count": 4,
   "metadata": {},
   "outputs": [],
   "source": [
    "em=Trained_Emulators['Pb-Pb-2760']"
   ]
  },
  {
   "cell_type": "code",
   "execution_count": 5,
   "metadata": {},
   "outputs": [],
   "source": [
    "# Get all the observables list\n",
    "nobs=0\n",
    "observables=[]\n",
    "for obs, cent_list in obs_cent_list['Pb-Pb-2760'].items():\n",
    "    observables.append(obs)\n",
    "    n = np.array(cent_list).shape[0]\n",
    "    #self._slices[obs] = slice(self.nobs, self.nobs + n)\n",
    "    nobs += n"
   ]
  },
  {
   "cell_type": "code",
   "execution_count": 6,
   "metadata": {},
   "outputs": [
    {
     "name": "stdout",
     "output_type": "stream",
     "text": [
      "Y_Obs shape[Ndesign, Nobs] = (485, 123)\n"
     ]
    }
   ],
   "source": [
    "# Get the simulation results corresponding to design points\n",
    "Y=[]\n",
    "for ipt, data in enumerate(trimmed_model_data['Pb-Pb-2760']):\n",
    "    row = np.array([])\n",
    "    for obs in observables:\n",
    "        values = np.array(data[idf][obs]['mean'])\n",
    "        if np.isnan(values).sum() > 0:\n",
    "            print(\"WARNING! FOUND NAN IN MODEL DATA WHILE BUILDING EMULATOR!\")\n",
    "            print(\"Design pt = \" + str(pt) + \"; Obs = \" + obs)\n",
    "        row = np.append(row, values)\n",
    "    Y.append(row)\n",
    "Y = np.array(Y)\n",
    "print(\"Y_Obs shape[Ndesign, Nobs] = \" + str(Y.shape))\n",
    "pca = PCA(copy=False, whiten=True, svd_solver='full')\n",
    "Z=pca.fit_transform(X=Y)[:,:10]"
   ]
  },
  {
   "cell_type": "code",
   "execution_count": 8,
   "metadata": {},
   "outputs": [
    {
     "name": "stdout",
     "output_type": "stream",
     "text": [
      "Loading main points from production_designs/500pts/design_pts_Pb_Pb_2760_production/design_points_main_PbPb-2760.dat\n",
      "Loading main ranges from production_designs/500pts/design_pts_Pb_Pb_2760_production/design_ranges_main_PbPb-2760.dat\n",
      "Summary of design : \n",
      "Note : Transforming design of viscosities\n",
      "Warning! Deleting 15 points from data\n"
     ]
    }
   ],
   "source": [
    "# Get design parametrs\n",
    "design, design_max, design_min, labels = prepare_emu_design('Pb-Pb-2760')\n",
    "if len(delete_design_pts_set) > 0:\n",
    "    print(\"Warning! Deleting \" + str(len(delete_design_pts_set)) + \" points from data\")\n",
    "    design = np.delete(design, list(delete_design_pts_set), 0)"
   ]
  },
  {
   "cell_type": "code",
   "execution_count": 61,
   "metadata": {},
   "outputs": [],
   "source": [
    "# a function that takes Scikit lern emulator as input and return the corresponding GPy emulator.\n",
    "def convertToGPy(Scikit_emu,design=design,pca_observable=zz):\n",
    "    \"\"\"Takes a scikitlearn gaussian emulator as input and conver it to a GPy gaussian emulator. This needs\n",
    "    design space parameters and the corresponding pca observable (PCA 1, PCA 2 etc)\"\"\"\n",
    "    dic=EM1.get_params()\n",
    "    kernel = GPy.kern.RBF(input_dim=29, variance=1., lengthscale=dic[\"kernel__k1__k2\"].get_params()[\"length_scale\"],ARD=True)\n",
    "    m = GPy.models.GPRegression(design,pca_observable,kernel,noise_var=dic[\"kernel__k2__noise_level\"])\n",
    "    return m\n",
    "    "
   ]
  },
  {
   "cell_type": "code",
   "execution_count": 69,
   "metadata": {},
   "outputs": [],
   "source": [
    "#make an dictionary of GPy emulators corresponding to each of the 10 PCA components of the observables\n",
    "GPy_emulators={}\n",
    "for i in range(0,10):\n",
    "    EM=em.gps[i]\n",
    "    zz=Z.T[i].reshape(-1,1)\n",
    "    GPy_emulators[i]=convertToGPy(Scikit_emu=EM,design=design,pca_observable=zz)"
   ]
  },
  {
   "cell_type": "code",
   "execution_count": 71,
   "metadata": {},
   "outputs": [],
   "source": [
    "m = GPy_emulators[0]\n",
    "#m.optimize_restarts(num_restarts = 10)"
   ]
  },
  {
   "cell_type": "code",
   "execution_count": 72,
   "metadata": {},
   "outputs": [],
   "source": [
    "x_star=np.random.uniform(design_min,design_max)"
   ]
  },
  {
   "cell_type": "code",
   "execution_count": 73,
   "metadata": {},
   "outputs": [],
   "source": [
    "#x_eta=np.random.uniform(design_min[2],design_max[2],300)\n",
    "x_eta=np.linspace(design_min[7],design_max[7],300)"
   ]
  },
  {
   "cell_type": "code",
   "execution_count": 74,
   "metadata": {},
   "outputs": [],
   "source": [
    "x_eta=np.sort(x_eta)"
   ]
  },
  {
   "cell_type": "code",
   "execution_count": 75,
   "metadata": {},
   "outputs": [],
   "source": [
    "LL=np.zeros((300,29))\n",
    "x=x_star\n",
    "for i,j in enumerate(x_eta):\n",
    "    #print(i)\n",
    "    x[7]=j\n",
    "   # print(x[2])\n",
    "    LL[i]=x\n",
    "    "
   ]
  },
  {
   "cell_type": "code",
   "execution_count": 76,
   "metadata": {},
   "outputs": [],
   "source": [
    "mean_grad,var_grad=m.predict_jacobian(Xnew=LL)\n",
    "y_predict,var_predict=m.predict(Xnew=LL)"
   ]
  },
  {
   "cell_type": "code",
   "execution_count": 77,
   "metadata": {},
   "outputs": [],
   "source": [
    "diagonal=np.zeros((300,1))\n",
    "mean=np.zeros((300,1))\n",
    "y_predict=np.zeros((300,1))\n",
    "#sigma_predict=np.zeros((300,1))\n",
    "for i in range(0,300):\n",
    "    cov=var_grad[i]\n",
    "    diagonal[i]=cov.diagonal()[7]\n",
    "    mean[i]=mean_grad[i][7]\n",
    "#    sigma_predict[i]=ysigma_predict.diagonal()[2]"
   ]
  },
  {
   "cell_type": "code",
   "execution_count": 78,
   "metadata": {},
   "outputs": [],
   "source": [
    "sigma_grad=np.sqrt(diagonal)\n",
    "mean_grad=mean\n",
    "sigma_predict=np.sqrt(var_predict)"
   ]
  },
  {
   "cell_type": "code",
   "execution_count": 79,
   "metadata": {},
   "outputs": [
    {
     "data": {
      "text/plain": [
       "<matplotlib.legend.Legend at 0x11ddf0ba8>"
      ]
     },
     "execution_count": 79,
     "metadata": {},
     "output_type": "execute_result"
    },
    {
     "data": {
      "image/png": "[encoded data removed]",
      "text/plain": [
       "<Figure size 720x720 with 1 Axes>"
      ]
     },
     "metadata": {
      "needs_background": "light"
     },
     "output_type": "display_data"
    }
   ],
   "source": [
    "# Plot the function, the prediction and the 95% confidence interval based on\n",
    "# the MSE\n",
    "x_predict=x_eta\n",
    "%matplotlib inline\n",
    "plt.figure(figsize=(10,10))\n",
    "#plt.plot(x_true,y_true, 'b-', label=r'$f(x) = x sin(x)$')\n",
    "#plt.plot(x,y, 'r.', markersize=10, label='samples with noise')\n",
    "plt.plot(x_predict, y_predict, 'r:', label='Prediction from GP emulator')\n",
    "plt.fill_between(x_predict.flatten(),y_predict.flatten() - 1.9600 * sigma_predict.flatten(),y_predict.flatten() + 1.9600 * sigma_predict.flatten(), alpha=.5, fc='c', ec='None')\n",
    "plt.xlabel('$x$')\n",
    "#plt.plot(x_true,f_grad(x_true), 'g', label=r'$f(x) = xcos(x) + sin(x)$')\n",
    "plt.plot(x_predict, mean_grad, 'k:', label='Gradiant prediction')\n",
    "plt.fill_between(x_predict.flatten(),mean_grad.flatten() - 1.9600 * sigma_grad.flatten(),mean_grad.flatten() + 1.9600 * sigma_grad.flatten(), alpha=.5, fc='y', ec='None')\n",
    "plt.title('Gradiant of the gaussian process found by Gpy')\n",
    "plt.ylim(-0.5, 0.5)\n",
    "plt.legend(loc='lower left')"
   ]
  },
  {
   "cell_type": "code",
   "execution_count": null,
   "metadata": {},
   "outputs": [],
   "source": []
  }
 ],
 "metadata": {
  "kernelspec": {
   "display_name": "Python 3",
   "language": "python",
   "name": "python3"
  },
  "language_info": {
   "codemirror_mode": {
    "name": "ipython",
    "version": 3
   },
   "file_extension": ".py",
   "mimetype": "text/x-python",
   "name": "python",
   "nbconvert_exporter": "python",
   "pygments_lexer": "ipython3",
   "version": "3.7.3"
  }
 },
 "nbformat": 4,
 "nbformat_minor": 4
}
